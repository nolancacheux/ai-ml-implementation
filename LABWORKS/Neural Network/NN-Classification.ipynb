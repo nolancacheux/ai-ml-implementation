{
 "cells": [
  {
   "cell_type": "markdown",
   "metadata": {},
   "source": [
    "with heart.csv : NN - Exam Method:\n",
    "\n",
    "Example with Neural Network Heart Classification\n",
    "\n",
    "The goal is to write a neural network classifier for this problem, analyzing the data to predict the last column, which contains values of either 0 or 1.\n",
    "\n",
    "We split the dataset into two parts: even rows for training and odd rows for validation.\n",
    "\n",
    "Steps:\n",
    "    1) Load the dataset\n",
    "\n",
    "    2) Clean the data by removing the first column.\n",
    "\n",
    "    3) Split the dataset into training and validation sets:\n",
    "\n",
    "    Even rows for training: data[::2, :] (rows 0, 2, 4, etc.)\n",
    "    Odd rows for validation: data[1::2, :] (rows 1, 3, 5, etc.)\n",
    "\n",
    "    4) Describe / Define the model :\n",
    "\n",
    "        In this case: Binary Classification, with 13 input features and 1 output.\n",
    "\n",
    "        Neural Network Examples:\n",
    "            - Regression: Linear activation function.\n",
    "            - Classification:\n",
    "                Binary classification: One node with Sigmoid activation (returns a probability between 0 and 1).\n",
    "                Multiclass classification: Softmax activation (used when predicting multiple categories, e.g., dog, cat, horse in an image).\n",
    "                Multilabel classification: Sigmoid activation (for independent predictions of multiple labels).\n",
    "    \n",
    "\n",
    "    5) Display training and validation history:\n",
    "        \n",
    "        Plot the training and validation curves.\n",
    "\n",
    "    6)Evaluate the accuracy on the validation set."
   ]
  }
 ],
 "metadata": {
  "kernelspec": {
   "display_name": "nolanai",
   "language": "python",
   "name": "python3"
  },
  "language_info": {
   "codemirror_mode": {
    "name": "ipython",
    "version": 3
   },
   "file_extension": ".py",
   "mimetype": "text/x-python",
   "name": "python",
   "nbconvert_exporter": "python",
   "pygments_lexer": "ipython3",
   "version": "3.12.4"
  }
 },
 "nbformat": 4,
 "nbformat_minor": 2
}
